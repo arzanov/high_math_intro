{
 "cells": [
  {
   "cell_type": "markdown",
   "metadata": {},
   "source": [
    "# Домашнее задание 5"
   ]
  },
  {
   "cell_type": "code",
   "execution_count": 13,
   "metadata": {},
   "outputs": [],
   "source": [
    "%matplotlib inline\n",
    "import numpy as np"
   ]
  },
  {
   "cell_type": "markdown",
   "metadata": {},
   "source": [
    "**Задание 1** - Напишите код, моделирующий выпадение поля в рулетке (с учетом поля зеро)."
   ]
  },
  {
   "cell_type": "code",
   "execution_count": 14,
   "metadata": {},
   "outputs": [],
   "source": [
    "def rulette_turn():\n",
    "    x = int(np.random.uniform(0, 36))\n",
    "    if x in [2, 4, 6, 8, 10, 11, 13 ,15, 17, 20, 22, 24, 26, 28, 29, 31, 33, 35]:\n",
    "        print(f'{x} Black')\n",
    "    elif x in [1, 3 ,5, 7, 9, 12, 14, 16, 18, 19, 21, 23, 25, 27, 30, 32, 34, 36]:\n",
    "        print(f'{x} Red')\n",
    "    else:\n",
    "        print('Zero')"
   ]
  },
  {
   "cell_type": "markdown",
   "metadata": {},
   "source": [
    "**Задание 2.1** - Напишите код, проверяющий любую из теорем сложения или умножения вероятности на примере рулетки или подбрасывания монетки."
   ]
  },
  {
   "cell_type": "code",
   "execution_count": 15,
   "metadata": {},
   "outputs": [],
   "source": [
    "def coin_drop():\n",
    "    x = np.random.uniform(0, 10)\n",
    "    if x<5:\n",
    "        return 0\n",
    "    return 1"
   ]
  },
  {
   "cell_type": "markdown",
   "metadata": {},
   "source": [
    "Проверка теоремы умножения вероятностей. Проведём 10000 подбрасываний попарно и будет считать количество пар, в которых за 1 следует 0. Т.к. результаты подбрасывания монеты независимы, вероятность того, что за выпадением \"орла\" будет \"решка\" $$P(AB) = P(A)P(B) = 0.5 * 0.5 = 0.25$$"
   ]
  },
  {
   "cell_type": "code",
   "execution_count": 27,
   "metadata": {},
   "outputs": [
    {
     "name": "stdout",
     "output_type": "stream",
     "text": [
      "0.2499\n"
     ]
    }
   ],
   "source": [
    "counter = 0\n",
    "for i in range(10000):\n",
    "    a = coin_drop()\n",
    "    b = coin_drop()\n",
    "    if a > b:\n",
    "        counter += 1\n",
    "p = counter / 10000\n",
    "print(p)"
   ]
  },
  {
   "cell_type": "markdown",
   "metadata": {},
   "source": [
    "**Задание 2.2** - Сгенерируйте десять выборок случайных чисел х0, …, х9.  \n",
    "И постройте гистограмму распределения случайной суммы х0+х1+ …+ х9."
   ]
  },
  {
   "cell_type": "code",
   "execution_count": 28,
   "metadata": {},
   "outputs": [],
   "source": [
    "import matplotlib.pyplot as plt\n",
    "import matplotlib.mlab as mlab"
   ]
  },
  {
   "cell_type": "code",
   "execution_count": 69,
   "metadata": {},
   "outputs": [],
   "source": [
    "x = np.random.uniform(0, 1, (10, 1000)) # Генерируем 10 выборок 1000 случайных величин с равномерным распределением"
   ]
  },
  {
   "cell_type": "code",
   "execution_count": 70,
   "metadata": {},
   "outputs": [
    {
     "data": {
      "text/plain": [
       "Text(0.5, 1.0, 'Гистограмма распределения суммы')"
      ]
     },
     "execution_count": 70,
     "metadata": {},
     "output_type": "execute_result"
    },
    {
     "data": {
      "image/png": "[encoded data removed]",
      "text/plain": [
       "<Figure size 432x288 with 1 Axes>"
      ]
     },
     "metadata": {
      "needs_background": "light"
     },
     "output_type": "display_data"
    }
   ],
   "source": [
    "s = []\n",
    "for i in range(1000):\n",
    "    s.append(np.sum(x[:, i])) # Считаем суммы по столбцам\n",
    "num_bins = 10\n",
    "n, bins, patches = plt.hist(s, num_bins)\n",
    "plt.xlabel('Сумма')\n",
    "plt.ylabel('Количество')\n",
    "plt.title('Гистограмма распределения суммы')"
   ]
  },
  {
   "cell_type": "markdown",
   "metadata": {},
   "source": [
    "**Задание 3.1** - Дополните код Монте-Карло последовательности независимых испытаний расчетом соответствующих вероятностей (через биномиальное распределение) \n",
    "и сравните результаты."
   ]
  },
  {
   "cell_type": "code",
   "execution_count": 71,
   "metadata": {},
   "outputs": [
    {
     "name": "stdout",
     "output_type": "stream",
     "text": [
      "3722 10000 0.3722\n"
     ]
    }
   ],
   "source": [
    "k, n = 0, 10000\n",
    "a = np.random.randint(0, 2, n)\n",
    "b = np.random.randint(0, 2, n)\n",
    "c = np.random.randint(0, 2, n)\n",
    "d = np.random.randint(0, 2, n)\n",
    "x = a + b + c + d\n",
    "for i in range(0, n):\n",
    "    if x[i] == 2:\n",
    "        k = k + 1\n",
    "#print(a, b, c, d)\n",
    "#print(x)\n",
    "print(k, n, k/n)"
   ]
  },
  {
   "cell_type": "markdown",
   "metadata": {},
   "source": [
    "Сравним результат с расчетом по формуле Бернулли:  \n",
    "$$P_4(2) = C_4^2 * {1 \\over 2^4} = {{4!} \\over {2! * 2! * 16}} = {6 \\over 16} = 0. 375$$\n",
    "Результат почти совпадает."
   ]
  },
  {
   "cell_type": "markdown",
   "metadata": {},
   "source": [
    "**Задание 3.1** - Повторите расчеты биномиальных коэффициентов и вероятностей k успехов в последовательности из n независимых испытаний, взяв другие значения n и k."
   ]
  },
  {
   "cell_type": "markdown",
   "metadata": {},
   "source": [
    "Посчитаем вероятность 3-х успехов в 4 испытаниях."
   ]
  },
  {
   "cell_type": "code",
   "execution_count": 72,
   "metadata": {},
   "outputs": [
    {
     "name": "stdout",
     "output_type": "stream",
     "text": [
      "2577 10000 0.2577\n"
     ]
    }
   ],
   "source": [
    "k, n = 0, 10000\n",
    "a = np.random.randint(0, 2, n)\n",
    "b = np.random.randint(0, 2, n)\n",
    "c = np.random.randint(0, 2, n)\n",
    "d = np.random.randint(0, 2, n)\n",
    "x = a + b + c + d\n",
    "for i in range(0, n):\n",
    "    if x[i] == 3:\n",
    "        k = k + 1\n",
    "#print(a, b, c, d)\n",
    "#print(x)\n",
    "print(k, n, k/n)"
   ]
  },
  {
   "cell_type": "markdown",
   "metadata": {},
   "source": [
    "По формуле Бернулли:\n",
    "$$P_4(3) = {4! \\over {3! \\cdot 1! \\cdot 16}} = 0.25$$"
   ]
  },
  {
   "cell_type": "markdown",
   "metadata": {},
   "source": [
    "**Задание 4** - Из урока по комбинаторике повторите расчеты, сгенерировав возможные варианты перестановок для других значений n и k"
   ]
  },
  {
   "cell_type": "markdown",
   "metadata": {},
   "source": [
    "#### Размещения"
   ]
  },
  {
   "cell_type": "code",
   "execution_count": 73,
   "metadata": {},
   "outputs": [],
   "source": [
    "import itertools"
   ]
  },
  {
   "cell_type": "code",
   "execution_count": 78,
   "metadata": {},
   "outputs": [
    {
     "name": "stdout",
     "output_type": "stream",
     "text": [
      "[('0', '1', '2'), ('0', '1', '3'), ('0', '2', '1'), ('0', '2', '3'), ('0', '3', '1'), ('0', '3', '2'), ('1', '0', '2'), ('1', '0', '3'), ('1', '2', '0'), ('1', '2', '3'), ('1', '3', '0'), ('1', '3', '2'), ('2', '0', '1'), ('2', '0', '3'), ('2', '1', '0'), ('2', '1', '3'), ('2', '3', '0'), ('2', '3', '1'), ('3', '0', '1'), ('3', '0', '2'), ('3', '1', '0'), ('3', '1', '2'), ('3', '2', '0'), ('3', '2', '1')]\n",
      "Количество размещений: 24\n"
     ]
    }
   ],
   "source": [
    "my_list = []\n",
    "for p in itertools.permutations(\"0123\",3):\n",
    "    my_list.append(p)\n",
    "print(my_list)\n",
    "print(f'Количество размещений: {len(my_list)}')"
   ]
  },
  {
   "cell_type": "markdown",
   "metadata": {},
   "source": [
    "Проверяем по формуле: $$A_4^2 = {4! \\over {(4 - 3)!}} = 24$$"
   ]
  },
  {
   "cell_type": "markdown",
   "metadata": {},
   "source": [
    "#### Сочетания"
   ]
  },
  {
   "cell_type": "code",
   "execution_count": 77,
   "metadata": {},
   "outputs": [
    {
     "name": "stdout",
     "output_type": "stream",
     "text": [
      "[('0', '1', '2'), ('0', '1', '3'), ('0', '2', '3'), ('1', '2', '3')]\n",
      "Количество сочетаний: 4\n"
     ]
    }
   ],
   "source": [
    "my_list = []\n",
    "for p in itertools.combinations(\"0123\",3):\n",
    "    my_list.append(p)\n",
    "print(my_list)\n",
    "print(f'Количество сочетаний: {len(my_list)}')"
   ]
  },
  {
   "cell_type": "markdown",
   "metadata": {},
   "source": [
    "Проверяем по формуле: $$C_4^2 = {4! \\over {3! \\cdot (4 - 3)!}} = 4$$"
   ]
  },
  {
   "cell_type": "markdown",
   "metadata": {},
   "source": [
    "**Задание 5** - Дополните код расчетом коэффициента корреляции x и y по формуле\n",
    "$$R = {{\\sum (x_i - x_m)(y_i - y_m)} \\over {\\sqrt{\\sum{(x_i - x_m)^2}\\sum{(y_i - y_m)^2}}}}$$"
   ]
  },
  {
   "cell_type": "code",
   "execution_count": 94,
   "metadata": {},
   "outputs": [
    {
     "name": "stderr",
     "output_type": "stream",
     "text": [
      "/Users/artur/opt/anaconda3/lib/python3.7/site-packages/ipykernel_launcher.py:14: FutureWarning: `rcond` parameter will change to the default of machine precision times ``max(M, N)`` where M and N are the input matrix dimensions.\n",
      "To use the future default and silence this warning we advise to pass `rcond=None`, to keep using the old, explicitly pass `rcond=-1`.\n",
      "  \n"
     ]
    },
    {
     "name": "stdout",
     "output_type": "stream",
     "text": [
      "0.71996302538846 0.13284136330776738\n",
      "0.71996302538846 0.13284136330776738\n"
     ]
    },
    {
     "data": {
      "image/png": "[encoded data removed]",
      "text/plain": [
       "<Figure size 432x288 with 1 Axes>"
      ]
     },
     "metadata": {
      "needs_background": "light"
     },
     "output_type": "display_data"
    },
    {
     "name": "stdout",
     "output_type": "stream",
     "text": [
      "0.9092532446840383\n",
      "[[1.         0.90925324]\n",
      " [0.90925324 1.        ]]\n"
     ]
    }
   ],
   "source": [
    "n = 100\n",
    "r = 0.7\n",
    "x = np.random.rand(n)\n",
    "y = r*x + (1 - r)*np.random.rand(n)\n",
    "plt.plot(x, y, 'o')\n",
    "plt.xlabel('x')\n",
    "plt.ylabel('y')\n",
    "plt.grid(True)\n",
    "\n",
    "a = (np.sum(x)*np.sum(y) - n*np.sum(x*y))/(np.sum(x)*np.sum(x) - n*np.sum(x*x))\n",
    "b = (np.sum(y) - a*np.sum(x))/n\n",
    "\n",
    "A = np.vstack([x, np.ones(len(x))]).T\n",
    "a1, b1 = np.linalg.lstsq(A, y)[0]\n",
    "print(a, b)\n",
    "print(a1, b1)\n",
    "plt.plot([0, 1], [b, a + b])\n",
    "plt.show()\n",
    "xm = np.sum(x)/n\n",
    "ym = np.sum(y)/n\n",
    "c_c = (np.sum((x - xm) * (y - ym))) / np.sqrt(np.sum((x - xm)**2) * np.sum((y - ym)**2))\n",
    "print(c_c)\n",
    "c = np.corrcoef(x, y) \n",
    "print(c)"
   ]
  },
  {
   "cell_type": "code",
   "execution_count": null,
   "metadata": {},
   "outputs": [],
   "source": []
  }
 ],
 "metadata": {
  "kernelspec": {
   "display_name": "Python 3",
   "language": "python",
   "name": "python3"
  },
  "language_info": {
   "codemirror_mode": {
    "name": "ipython",
    "version": 3
   },
   "file_extension": ".py",
   "mimetype": "text/x-python",
   "name": "python",
   "nbconvert_exporter": "python",
   "pygments_lexer": "ipython3",
   "version": "3.7.6"
  }
 },
 "nbformat": 4,
 "nbformat_minor": 4
}
